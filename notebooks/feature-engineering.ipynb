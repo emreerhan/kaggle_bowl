{
 "cells": [
  {
   "cell_type": "code",
   "execution_count": 3,
   "metadata": {},
   "outputs": [],
   "source": [
    "import pandas as pd\n",
    "import os\n",
    "import numpy as np\n",
    "import matplotlib.pyplot as plt\n",
    "import seaborn as sns\n",
    "from sklearn.preprocessing import LabelEncoder\n",
    "from sklearn.model_selection import StratifiedKFold\n",
    "from sklearn.metrics import cohen_kappa_score\n",
    "from scipy.stats import mode\n",
    "from sklearn.feature_selection import SelectFromModel\n",
    "from sklearn.model_selection import train_test_split\n",
    "from matplotlib import pyplot\n"
   ]
  },
  {
   "cell_type": "code",
   "execution_count": 4,
   "metadata": {},
   "outputs": [],
   "source": [
    "from time import time\n",
    "from tqdm import tqdm_notebook as tqdm"
   ]
  },
  {
   "cell_type": "markdown",
   "metadata": {},
   "source": [
    "## Feature engineering taken from \n",
    "https://www.kaggle.com/shahules/xgboost-feature-selection-dsbowl"
   ]
  },
  {
   "cell_type": "code",
   "execution_count": 5,
   "metadata": {},
   "outputs": [],
   "source": [
    "train = pd.read_csv('../data/raw/train.csv')"
   ]
  },
  {
   "cell_type": "code",
   "execution_count": 6,
   "metadata": {},
   "outputs": [],
   "source": [
    "train_labels = pd.read_csv('../data/raw/train_labels.csv')"
   ]
  },
  {
   "cell_type": "code",
   "execution_count": 7,
   "metadata": {},
   "outputs": [],
   "source": [
    "test = pd.read_csv('../data/raw/test.csv')"
   ]
  },
  {
   "cell_type": "code",
   "execution_count": 8,
   "metadata": {},
   "outputs": [],
   "source": [
    "time_features=['month','hour','year','dayofweek','weekofyear']"
   ]
  },
  {
   "cell_type": "code",
   "execution_count": 9,
   "metadata": {},
   "outputs": [],
   "source": [
    "def extract_time_features(df):\n",
    "    df['timestamp'] = pd.to_datetime(df['timestamp'])\n",
    "    df['month'] = df['timestamp'].dt.month\n",
    "    df['hour'] = df['timestamp'].dt.hour\n",
    "    df['year'] = df['timestamp'].dt.year\n",
    "    df['dayofweek'] = df['timestamp'].dt.dayofweek\n",
    "    df['weekofyear'] = df['timestamp'].dt.weekofyear\n",
    "    return df"
   ]
  },
  {
   "cell_type": "code",
   "execution_count": 11,
   "metadata": {},
   "outputs": [],
   "source": [
    "submission = pd.read_csv('../data/raw/sample_submission.csv')"
   ]
  },
  {
   "cell_type": "code",
   "execution_count": 16,
   "metadata": {},
   "outputs": [],
   "source": [
    "train = extract_time_features(train)"
   ]
  },
  {
   "cell_type": "code",
   "execution_count": 17,
   "metadata": {},
   "outputs": [],
   "source": [
    "def prepare_data(df):    \n",
    "    df=df.drop('timestamp',axis=1)\n",
    "    #df['timestamp']=pd.to_datetime(df['timestamp'])\n",
    "    #df['hour_of_day']=df['timestamp'].map(lambda x : int(x.hour))\n",
    "    \n",
    "\n",
    "    join_one=pd.get_dummies(df[['event_code','installation_id','game_session']],\n",
    "                            columns=['event_code']).groupby(['installation_id','game_session'],\n",
    "                                                            as_index=False,sort=False).agg(sum)\n",
    "\n",
    "    agg={'event_count':sum,'game_time':['sum','mean'],'event_id':'count'}\n",
    "\n",
    "    join_two=df.drop(time_features,axis=1).groupby(['installation_id','game_session']\n",
    "                                                   ,as_index=False,sort=False).agg(agg)\n",
    "    \n",
    "    join_two.columns= [' '.join(col).strip() for col in join_two.columns.values]\n",
    "    \n",
    "\n",
    "    join_three=df[['installation_id','game_session','type','world','title']].groupby(\n",
    "                ['installation_id','game_session'],as_index=False,sort=False).first()\n",
    "    \n",
    "    join_four=df[time_features+['installation_id','game_session']].groupby(['installation_id',\n",
    "                'game_session'],as_index=False,sort=False).agg(mode)[time_features].applymap(lambda x: x.mode[0])\n",
    "    \n",
    "    join_one=join_one.join(join_four)\n",
    "    \n",
    "    join_five=(join_one.join(join_two.drop(['installation_id','game_session'],axis=1))). \\\n",
    "                        join(join_three.drop(['installation_id','game_session'],axis=1))\n",
    "    \n",
    "    return join_five\n",
    "\n"
   ]
  },
  {
   "cell_type": "code",
   "execution_count": 18,
   "metadata": {},
   "outputs": [],
   "source": [
    "\n",
    "join_train=prepare_data(train)\n",
    "cols=join_train.columns.to_list()[2:-3]\n",
    "join_train[cols]=join_train[cols].astype('int16')"
   ]
  },
  {
   "cell_type": "code",
   "execution_count": 19,
   "metadata": {},
   "outputs": [],
   "source": [
    "cols=join_train.columns[2:-12].to_list()\n",
    "cols.append('event_id count')\n",
    "cols.append('installation_id')"
   ]
  },
  {
   "cell_type": "code",
   "execution_count": 20,
   "metadata": {},
   "outputs": [],
   "source": [
    "final_train=pd.merge(train_labels,join_train,on=['installation_id','game_session'],\n",
    "                                         how='left').drop(['game_session'],axis=1)"
   ]
  },
  {
   "cell_type": "code",
   "execution_count": 21,
   "metadata": {},
   "outputs": [],
   "source": [
    "final_train['title'] = final_train['title_x']"
   ]
  },
  {
   "cell_type": "code",
   "execution_count": 22,
   "metadata": {},
   "outputs": [],
   "source": [
    "df=final_train[['event_count sum','game_time mean','game_time sum','installation_id']]. \\\n",
    "    groupby('installation_id',as_index=False,sort=False).agg('mean')\n",
    "\n",
    "df_two=final_train[cols].groupby('installation_id',as_index=False,\n",
    "                                 sort=False).agg('sum').drop('installation_id',axis=1)\n",
    "\n",
    "df_three=final_train[['accuracy_group','title','type','world','installation_id']]. \\\n",
    "        groupby('installation_id',as_index=False,sort=False). \\\n",
    "        last().drop('installation_id',axis=1)\n",
    "\n",
    "df_four=join_train[time_features+['installation_id']].groupby('installation_id',as_index=False,sort=False). \\\n",
    "        agg(mode)[time_features].applymap(lambda x : x.mode[0])\n",
    "\n",
    "\n",
    "\n",
    "final_train=(df.join(df_two)).join(df_three.join(df_four)).drop('installation_id',axis=1)"
   ]
  },
  {
   "cell_type": "code",
   "execution_count": 23,
   "metadata": {},
   "outputs": [
    {
     "data": {
      "text/plain": [
       "array(['Assessment'], dtype=object)"
      ]
     },
     "execution_count": 23,
     "metadata": {},
     "output_type": "execute_result"
    }
   ],
   "source": [
    "np.unique(final_train['type'])"
   ]
  },
  {
   "cell_type": "code",
   "execution_count": 24,
   "metadata": {},
   "outputs": [
    {
     "data": {
      "text/plain": [
       "array(['Activity', 'Assessment', 'Clip', 'Game'], dtype=object)"
      ]
     },
     "execution_count": 24,
     "metadata": {},
     "output_type": "execute_result"
    }
   ],
   "source": [
    "np.unique(join_train['type'])"
   ]
  },
  {
   "cell_type": "code",
   "execution_count": 31,
   "metadata": {},
   "outputs": [
    {
     "data": {
      "text/html": [
       "<div>\n",
       "<style scoped>\n",
       "    .dataframe tbody tr th:only-of-type {\n",
       "        vertical-align: middle;\n",
       "    }\n",
       "\n",
       "    .dataframe tbody tr th {\n",
       "        vertical-align: top;\n",
       "    }\n",
       "\n",
       "    .dataframe thead th {\n",
       "        text-align: right;\n",
       "    }\n",
       "</style>\n",
       "<table border=\"1\" class=\"dataframe\">\n",
       "  <thead>\n",
       "    <tr style=\"text-align: right;\">\n",
       "      <th></th>\n",
       "      <th>event_count sum</th>\n",
       "      <th>game_time mean</th>\n",
       "      <th>game_time sum</th>\n",
       "      <th>event_code_2000</th>\n",
       "      <th>event_code_2010</th>\n",
       "      <th>event_code_2020</th>\n",
       "      <th>event_code_2025</th>\n",
       "      <th>event_code_2030</th>\n",
       "      <th>event_code_2035</th>\n",
       "      <th>event_code_2040</th>\n",
       "      <th>...</th>\n",
       "      <th>event_id count</th>\n",
       "      <th>accuracy_group</th>\n",
       "      <th>title</th>\n",
       "      <th>type</th>\n",
       "      <th>world</th>\n",
       "      <th>month</th>\n",
       "      <th>hour</th>\n",
       "      <th>year</th>\n",
       "      <th>dayofweek</th>\n",
       "      <th>weekofyear</th>\n",
       "    </tr>\n",
       "  </thead>\n",
       "  <tbody>\n",
       "    <tr>\n",
       "      <th>0</th>\n",
       "      <td>1413.000000</td>\n",
       "      <td>7970.200000</td>\n",
       "      <td>16046.000000</td>\n",
       "      <td>5</td>\n",
       "      <td>4</td>\n",
       "      <td>6</td>\n",
       "      <td>3</td>\n",
       "      <td>5</td>\n",
       "      <td>3</td>\n",
       "      <td>0</td>\n",
       "      <td>...</td>\n",
       "      <td>244</td>\n",
       "      <td>3</td>\n",
       "      <td>Bird Measurer (Assessment)</td>\n",
       "      <td>Assessment</td>\n",
       "      <td>TREETOPCITY</td>\n",
       "      <td>9</td>\n",
       "      <td>18</td>\n",
       "      <td>2019</td>\n",
       "      <td>4</td>\n",
       "      <td>36</td>\n",
       "    </tr>\n",
       "    <tr>\n",
       "      <th>1</th>\n",
       "      <td>9062.000000</td>\n",
       "      <td>-12144.333333</td>\n",
       "      <td>8219.666667</td>\n",
       "      <td>3</td>\n",
       "      <td>0</td>\n",
       "      <td>4</td>\n",
       "      <td>1</td>\n",
       "      <td>2</td>\n",
       "      <td>1</td>\n",
       "      <td>0</td>\n",
       "      <td>...</td>\n",
       "      <td>340</td>\n",
       "      <td>0</td>\n",
       "      <td>Mushroom Sorter (Assessment)</td>\n",
       "      <td>Assessment</td>\n",
       "      <td>TREETOPCITY</td>\n",
       "      <td>10</td>\n",
       "      <td>14</td>\n",
       "      <td>2019</td>\n",
       "      <td>4</td>\n",
       "      <td>41</td>\n",
       "    </tr>\n",
       "    <tr>\n",
       "      <th>2</th>\n",
       "      <td>820.000000</td>\n",
       "      <td>20073.000000</td>\n",
       "      <td>16502.000000</td>\n",
       "      <td>1</td>\n",
       "      <td>1</td>\n",
       "      <td>2</td>\n",
       "      <td>0</td>\n",
       "      <td>2</td>\n",
       "      <td>0</td>\n",
       "      <td>0</td>\n",
       "      <td>...</td>\n",
       "      <td>40</td>\n",
       "      <td>3</td>\n",
       "      <td>Bird Measurer (Assessment)</td>\n",
       "      <td>Assessment</td>\n",
       "      <td>TREETOPCITY</td>\n",
       "      <td>8</td>\n",
       "      <td>5</td>\n",
       "      <td>2019</td>\n",
       "      <td>1</td>\n",
       "      <td>32</td>\n",
       "    </tr>\n",
       "    <tr>\n",
       "      <th>3</th>\n",
       "      <td>927.000000</td>\n",
       "      <td>18240.200000</td>\n",
       "      <td>-6346.800000</td>\n",
       "      <td>5</td>\n",
       "      <td>3</td>\n",
       "      <td>5</td>\n",
       "      <td>2</td>\n",
       "      <td>3</td>\n",
       "      <td>2</td>\n",
       "      <td>0</td>\n",
       "      <td>...</td>\n",
       "      <td>194</td>\n",
       "      <td>3</td>\n",
       "      <td>Mushroom Sorter (Assessment)</td>\n",
       "      <td>Assessment</td>\n",
       "      <td>TREETOPCITY</td>\n",
       "      <td>9</td>\n",
       "      <td>15</td>\n",
       "      <td>2019</td>\n",
       "      <td>5</td>\n",
       "      <td>37</td>\n",
       "    </tr>\n",
       "    <tr>\n",
       "      <th>4</th>\n",
       "      <td>703.000000</td>\n",
       "      <td>13623.000000</td>\n",
       "      <td>-20216.000000</td>\n",
       "      <td>1</td>\n",
       "      <td>0</td>\n",
       "      <td>1</td>\n",
       "      <td>0</td>\n",
       "      <td>0</td>\n",
       "      <td>0</td>\n",
       "      <td>0</td>\n",
       "      <td>...</td>\n",
       "      <td>37</td>\n",
       "      <td>0</td>\n",
       "      <td>Bird Measurer (Assessment)</td>\n",
       "      <td>Assessment</td>\n",
       "      <td>TREETOPCITY</td>\n",
       "      <td>9</td>\n",
       "      <td>18</td>\n",
       "      <td>2019</td>\n",
       "      <td>2</td>\n",
       "      <td>37</td>\n",
       "    </tr>\n",
       "    <tr>\n",
       "      <th>...</th>\n",
       "      <td>...</td>\n",
       "      <td>...</td>\n",
       "      <td>...</td>\n",
       "      <td>...</td>\n",
       "      <td>...</td>\n",
       "      <td>...</td>\n",
       "      <td>...</td>\n",
       "      <td>...</td>\n",
       "      <td>...</td>\n",
       "      <td>...</td>\n",
       "      <td>...</td>\n",
       "      <td>...</td>\n",
       "      <td>...</td>\n",
       "      <td>...</td>\n",
       "      <td>...</td>\n",
       "      <td>...</td>\n",
       "      <td>...</td>\n",
       "      <td>...</td>\n",
       "      <td>...</td>\n",
       "      <td>...</td>\n",
       "      <td>...</td>\n",
       "    </tr>\n",
       "    <tr>\n",
       "      <th>3609</th>\n",
       "      <td>6448.000000</td>\n",
       "      <td>7627.000000</td>\n",
       "      <td>3260.750000</td>\n",
       "      <td>4</td>\n",
       "      <td>0</td>\n",
       "      <td>6</td>\n",
       "      <td>0</td>\n",
       "      <td>2</td>\n",
       "      <td>0</td>\n",
       "      <td>0</td>\n",
       "      <td>...</td>\n",
       "      <td>395</td>\n",
       "      <td>0</td>\n",
       "      <td>Chest Sorter (Assessment)</td>\n",
       "      <td>Assessment</td>\n",
       "      <td>CRYSTALCAVES</td>\n",
       "      <td>9</td>\n",
       "      <td>16</td>\n",
       "      <td>2019</td>\n",
       "      <td>3</td>\n",
       "      <td>39</td>\n",
       "    </tr>\n",
       "    <tr>\n",
       "      <th>3610</th>\n",
       "      <td>933.555556</td>\n",
       "      <td>7351.444444</td>\n",
       "      <td>-7905.111111</td>\n",
       "      <td>9</td>\n",
       "      <td>7</td>\n",
       "      <td>10</td>\n",
       "      <td>3</td>\n",
       "      <td>8</td>\n",
       "      <td>3</td>\n",
       "      <td>0</td>\n",
       "      <td>...</td>\n",
       "      <td>358</td>\n",
       "      <td>3</td>\n",
       "      <td>Cauldron Filler (Assessment)</td>\n",
       "      <td>Assessment</td>\n",
       "      <td>MAGMAPEAK</td>\n",
       "      <td>9</td>\n",
       "      <td>19</td>\n",
       "      <td>2019</td>\n",
       "      <td>1</td>\n",
       "      <td>39</td>\n",
       "    </tr>\n",
       "    <tr>\n",
       "      <th>3611</th>\n",
       "      <td>905.000000</td>\n",
       "      <td>16591.666667</td>\n",
       "      <td>-2625.666667</td>\n",
       "      <td>6</td>\n",
       "      <td>5</td>\n",
       "      <td>8</td>\n",
       "      <td>2</td>\n",
       "      <td>7</td>\n",
       "      <td>2</td>\n",
       "      <td>0</td>\n",
       "      <td>...</td>\n",
       "      <td>242</td>\n",
       "      <td>3</td>\n",
       "      <td>Bird Measurer (Assessment)</td>\n",
       "      <td>Assessment</td>\n",
       "      <td>TREETOPCITY</td>\n",
       "      <td>9</td>\n",
       "      <td>21</td>\n",
       "      <td>2019</td>\n",
       "      <td>3</td>\n",
       "      <td>38</td>\n",
       "    </tr>\n",
       "    <tr>\n",
       "      <th>3612</th>\n",
       "      <td>820.000000</td>\n",
       "      <td>27651.000000</td>\n",
       "      <td>-8034.000000</td>\n",
       "      <td>1</td>\n",
       "      <td>1</td>\n",
       "      <td>2</td>\n",
       "      <td>0</td>\n",
       "      <td>2</td>\n",
       "      <td>0</td>\n",
       "      <td>0</td>\n",
       "      <td>...</td>\n",
       "      <td>40</td>\n",
       "      <td>3</td>\n",
       "      <td>Cauldron Filler (Assessment)</td>\n",
       "      <td>Assessment</td>\n",
       "      <td>MAGMAPEAK</td>\n",
       "      <td>8</td>\n",
       "      <td>18</td>\n",
       "      <td>2019</td>\n",
       "      <td>6</td>\n",
       "      <td>32</td>\n",
       "    </tr>\n",
       "    <tr>\n",
       "      <th>3613</th>\n",
       "      <td>3549.666667</td>\n",
       "      <td>-17725.000000</td>\n",
       "      <td>13338.333333</td>\n",
       "      <td>3</td>\n",
       "      <td>2</td>\n",
       "      <td>5</td>\n",
       "      <td>1</td>\n",
       "      <td>4</td>\n",
       "      <td>1</td>\n",
       "      <td>0</td>\n",
       "      <td>...</td>\n",
       "      <td>247</td>\n",
       "      <td>1</td>\n",
       "      <td>Cauldron Filler (Assessment)</td>\n",
       "      <td>Assessment</td>\n",
       "      <td>MAGMAPEAK</td>\n",
       "      <td>8</td>\n",
       "      <td>13</td>\n",
       "      <td>2019</td>\n",
       "      <td>2</td>\n",
       "      <td>35</td>\n",
       "    </tr>\n",
       "  </tbody>\n",
       "</table>\n",
       "<p>3614 rows × 55 columns</p>\n",
       "</div>"
      ],
      "text/plain": [
       "      event_count sum  game_time mean  game_time sum  event_code_2000  \\\n",
       "0         1413.000000     7970.200000   16046.000000                5   \n",
       "1         9062.000000   -12144.333333    8219.666667                3   \n",
       "2          820.000000    20073.000000   16502.000000                1   \n",
       "3          927.000000    18240.200000   -6346.800000                5   \n",
       "4          703.000000    13623.000000  -20216.000000                1   \n",
       "...               ...             ...            ...              ...   \n",
       "3609      6448.000000     7627.000000    3260.750000                4   \n",
       "3610       933.555556     7351.444444   -7905.111111                9   \n",
       "3611       905.000000    16591.666667   -2625.666667                6   \n",
       "3612       820.000000    27651.000000   -8034.000000                1   \n",
       "3613      3549.666667   -17725.000000   13338.333333                3   \n",
       "\n",
       "      event_code_2010  event_code_2020  event_code_2025  event_code_2030  \\\n",
       "0                   4                6                3                5   \n",
       "1                   0                4                1                2   \n",
       "2                   1                2                0                2   \n",
       "3                   3                5                2                3   \n",
       "4                   0                1                0                0   \n",
       "...               ...              ...              ...              ...   \n",
       "3609                0                6                0                2   \n",
       "3610                7               10                3                8   \n",
       "3611                5                8                2                7   \n",
       "3612                1                2                0                2   \n",
       "3613                2                5                1                4   \n",
       "\n",
       "      event_code_2035  event_code_2040  ...  event_id count  accuracy_group  \\\n",
       "0                   3                0  ...             244               3   \n",
       "1                   1                0  ...             340               0   \n",
       "2                   0                0  ...              40               3   \n",
       "3                   2                0  ...             194               3   \n",
       "4                   0                0  ...              37               0   \n",
       "...               ...              ...  ...             ...             ...   \n",
       "3609                0                0  ...             395               0   \n",
       "3610                3                0  ...             358               3   \n",
       "3611                2                0  ...             242               3   \n",
       "3612                0                0  ...              40               3   \n",
       "3613                1                0  ...             247               1   \n",
       "\n",
       "                             title        type         world  month  hour  \\\n",
       "0       Bird Measurer (Assessment)  Assessment   TREETOPCITY      9    18   \n",
       "1     Mushroom Sorter (Assessment)  Assessment   TREETOPCITY     10    14   \n",
       "2       Bird Measurer (Assessment)  Assessment   TREETOPCITY      8     5   \n",
       "3     Mushroom Sorter (Assessment)  Assessment   TREETOPCITY      9    15   \n",
       "4       Bird Measurer (Assessment)  Assessment   TREETOPCITY      9    18   \n",
       "...                            ...         ...           ...    ...   ...   \n",
       "3609     Chest Sorter (Assessment)  Assessment  CRYSTALCAVES      9    16   \n",
       "3610  Cauldron Filler (Assessment)  Assessment     MAGMAPEAK      9    19   \n",
       "3611    Bird Measurer (Assessment)  Assessment   TREETOPCITY      9    21   \n",
       "3612  Cauldron Filler (Assessment)  Assessment     MAGMAPEAK      8    18   \n",
       "3613  Cauldron Filler (Assessment)  Assessment     MAGMAPEAK      8    13   \n",
       "\n",
       "      year  dayofweek  weekofyear  \n",
       "0     2019          4          36  \n",
       "1     2019          4          41  \n",
       "2     2019          1          32  \n",
       "3     2019          5          37  \n",
       "4     2019          2          37  \n",
       "...    ...        ...         ...  \n",
       "3609  2019          3          39  \n",
       "3610  2019          1          39  \n",
       "3611  2019          3          38  \n",
       "3612  2019          6          32  \n",
       "3613  2019          2          35  \n",
       "\n",
       "[3614 rows x 55 columns]"
      ]
     },
     "execution_count": 31,
     "metadata": {},
     "output_type": "execute_result"
    }
   ],
   "source": [
    "final_train"
   ]
  },
  {
   "cell_type": "code",
   "execution_count": null,
   "metadata": {},
   "outputs": [],
   "source": [
    "final_train.to_csv('../data/processed/processed_train.csv')"
   ]
  },
  {
   "cell_type": "markdown",
   "metadata": {},
   "source": [
    "## Try using improvement as a feature"
   ]
  },
  {
   "cell_type": "code",
   "execution_count": 26,
   "metadata": {},
   "outputs": [],
   "source": [
    "df = train\n",
    "join_one=pd.get_dummies(df[['event_code','installation_id','game_session']],\n",
    "                        columns=['event_code']).groupby(['installation_id','game_session'],\n",
    "                                                        as_index=False,sort=False).agg(sum)"
   ]
  },
  {
   "cell_type": "code",
   "execution_count": 29,
   "metadata": {},
   "outputs": [],
   "source": [
    "df = df.sort_values(['installation_id', 'timestamp'])"
   ]
  },
  {
   "cell_type": "code",
   "execution_count": 34,
   "metadata": {},
   "outputs": [],
   "source": [
    "installation_ids = np.unique(df['installation_id'])"
   ]
  },
  {
   "cell_type": "code",
   "execution_count": 38,
   "metadata": {},
   "outputs": [],
   "source": [
    "tid = installation_ids[0]"
   ]
  },
  {
   "cell_type": "code",
   "execution_count": 41,
   "metadata": {},
   "outputs": [],
   "source": [
    "temp_df = df[df['installation_id'] == tid]"
   ]
  },
  {
   "cell_type": "code",
   "execution_count": 46,
   "metadata": {},
   "outputs": [],
   "source": [
    "next_game_time = temp_df['game_time'].shift(-1)"
   ]
  },
  {
   "cell_type": "code",
   "execution_count": 48,
   "metadata": {},
   "outputs": [
    {
     "name": "stderr",
     "output_type": "stream",
     "text": [
      "/projects/eerhan_prj/anaconda/envs/data/lib/python3.7/site-packages/ipykernel_launcher.py:1: SettingWithCopyWarning: \n",
      "A value is trying to be set on a copy of a slice from a DataFrame.\n",
      "Try using .loc[row_indexer,col_indexer] = value instead\n",
      "\n",
      "See the caveats in the documentation: http://pandas.pydata.org/pandas-docs/stable/user_guide/indexing.html#returning-a-view-versus-a-copy\n",
      "  \"\"\"Entry point for launching an IPython kernel.\n"
     ]
    }
   ],
   "source": [
    "temp_df['next_game_time'] = next_game_time"
   ]
  },
  {
   "cell_type": "code",
   "execution_count": 51,
   "metadata": {},
   "outputs": [
    {
     "name": "stderr",
     "output_type": "stream",
     "text": [
      "/projects/eerhan_prj/anaconda/envs/data/lib/python3.7/site-packages/ipykernel_launcher.py:1: SettingWithCopyWarning: \n",
      "A value is trying to be set on a copy of a slice from a DataFrame.\n",
      "Try using .loc[row_indexer,col_indexer] = value instead\n",
      "\n",
      "See the caveats in the documentation: http://pandas.pydata.org/pandas-docs/stable/user_guide/indexing.html#returning-a-view-versus-a-copy\n",
      "  \"\"\"Entry point for launching an IPython kernel.\n"
     ]
    }
   ],
   "source": [
    "temp_df['improvement'] = temp_df['next_game_time'] - temp_df['game_time']"
   ]
  },
  {
   "cell_type": "code",
   "execution_count": 52,
   "metadata": {},
   "outputs": [
    {
     "data": {
      "text/plain": [
       "0           0.0\n",
       "1           0.0\n",
       "2          53.0\n",
       "3        6919.0\n",
       "4        3019.0\n",
       "         ...   \n",
       "1352        0.0\n",
       "1353     1217.0\n",
       "1354   -86619.0\n",
       "1355        0.0\n",
       "1356        NaN\n",
       "Name: improvement, Length: 1357, dtype: float64"
      ]
     },
     "execution_count": 52,
     "metadata": {},
     "output_type": "execute_result"
    }
   ],
   "source": [
    "temp_df['improvement']"
   ]
  },
  {
   "cell_type": "code",
   "execution_count": 53,
   "metadata": {},
   "outputs": [],
   "source": [
    "new_dfs = []"
   ]
  },
  {
   "cell_type": "code",
   "execution_count": null,
   "metadata": {},
   "outputs": [
    {
     "name": "stderr",
     "output_type": "stream",
     "text": [
      "/projects/eerhan_prj/anaconda/envs/data/lib/python3.7/site-packages/ipykernel_launcher.py:4: SettingWithCopyWarning: \n",
      "A value is trying to be set on a copy of a slice from a DataFrame.\n",
      "Try using .loc[row_indexer,col_indexer] = value instead\n",
      "\n",
      "See the caveats in the documentation: http://pandas.pydata.org/pandas-docs/stable/user_guide/indexing.html#returning-a-view-versus-a-copy\n",
      "  after removing the cwd from sys.path.\n",
      "/projects/eerhan_prj/anaconda/envs/data/lib/python3.7/site-packages/ipykernel_launcher.py:5: SettingWithCopyWarning: \n",
      "A value is trying to be set on a copy of a slice from a DataFrame.\n",
      "Try using .loc[row_indexer,col_indexer] = value instead\n",
      "\n",
      "See the caveats in the documentation: http://pandas.pydata.org/pandas-docs/stable/user_guide/indexing.html#returning-a-view-versus-a-copy\n",
      "  \"\"\"\n"
     ]
    }
   ],
   "source": [
    "for installation_id in installation_ids:\n",
    "    temp_df = df[df['installation_id'] == installation_id]\n",
    "    next_game_time = temp_df['game_time'].shift(-1)\n",
    "    temp_df['next_game_time'] = next_game_time\n",
    "    temp_df['improvement'] = temp_df['next_game_time'] - temp_df['game_time']\n",
    "    new_dfs.append(temp_df)"
   ]
  },
  {
   "cell_type": "code",
   "execution_count": null,
   "metadata": {},
   "outputs": [],
   "source": [
    "new_df = pd.concat(new_dfs)"
   ]
  },
  {
   "cell_type": "code",
   "execution_count": null,
   "metadata": {},
   "outputs": [],
   "source": [
    "new_df"
   ]
  }
 ],
 "metadata": {
  "kernelspec": {
   "display_name": "Python 3",
   "language": "python",
   "name": "python3"
  },
  "language_info": {
   "codemirror_mode": {
    "name": "ipython",
    "version": 3
   },
   "file_extension": ".py",
   "mimetype": "text/x-python",
   "name": "python",
   "nbconvert_exporter": "python",
   "pygments_lexer": "ipython3",
   "version": "3.7.4"
  }
 },
 "nbformat": 4,
 "nbformat_minor": 4
}
