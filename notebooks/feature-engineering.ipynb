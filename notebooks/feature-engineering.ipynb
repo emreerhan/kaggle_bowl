{
 "cells": [
  {
   "cell_type": "code",
   "execution_count": 3,
   "metadata": {},
   "outputs": [],
   "source": [
    "import pandas as pd\n",
    "import os\n",
    "import numpy as np\n",
    "import matplotlib.pyplot as plt\n",
    "import seaborn as sns\n",
    "from sklearn.preprocessing import LabelEncoder\n",
    "from sklearn.model_selection import StratifiedKFold\n",
    "from sklearn.metrics import cohen_kappa_score\n",
    "from scipy.stats import mode\n",
    "from sklearn.feature_selection import SelectFromModel\n",
    "from sklearn.model_selection import train_test_split\n",
    "from matplotlib import pyplot\n"
   ]
  },
  {
   "cell_type": "code",
   "execution_count": 4,
   "metadata": {},
   "outputs": [],
   "source": [
    "from time import time\n",
    "from tqdm import tqdm_notebook as tqdm"
   ]
  },
  {
   "cell_type": "markdown",
   "metadata": {},
   "source": [
    "## Feature engineering taken from \n",
    "https://www.kaggle.com/shahules/xgboost-feature-selection-dsbowl"
   ]
  },
  {
   "cell_type": "code",
   "execution_count": 5,
   "metadata": {},
   "outputs": [],
   "source": [
    "train = pd.read_csv('../data/raw/train.csv')"
   ]
  },
  {
   "cell_type": "code",
   "execution_count": 6,
   "metadata": {},
   "outputs": [],
   "source": [
    "train_labels = pd.read_csv('../data/raw/train_labels.csv')"
   ]
  },
  {
   "cell_type": "code",
   "execution_count": 7,
   "metadata": {},
   "outputs": [],
   "source": [
    "test = pd.read_csv('../data/raw/test.csv')"
   ]
  },
  {
   "cell_type": "code",
   "execution_count": 8,
   "metadata": {},
   "outputs": [],
   "source": [
    "time_features=['month','hour','year','dayofweek','weekofyear']"
   ]
  },
  {
   "cell_type": "code",
   "execution_count": 9,
   "metadata": {},
   "outputs": [],
   "source": [
    "def extract_time_features(df):\n",
    "    df['timestamp'] = pd.to_datetime(df['timestamp'])\n",
    "    df['month'] = df['timestamp'].dt.month\n",
    "    df['hour'] = df['timestamp'].dt.hour\n",
    "    df['year'] = df['timestamp'].dt.year\n",
    "    df['dayofweek'] = df['timestamp'].dt.dayofweek\n",
    "    df['weekofyear'] = df['timestamp'].dt.weekofyear\n",
    "    return df"
   ]
  },
  {
   "cell_type": "code",
   "execution_count": 10,
   "metadata": {},
   "outputs": [],
   "source": [
    "submission = pd.read_csv('../data/raw/sample_submission.csv')"
   ]
  },
  {
   "cell_type": "code",
   "execution_count": 11,
   "metadata": {},
   "outputs": [],
   "source": [
    "train = extract_time_features(train)"
   ]
  },
  {
   "cell_type": "code",
   "execution_count": 12,
   "metadata": {},
   "outputs": [],
   "source": [
    "def prepare_data(df):    \n",
    "    df=df.drop('timestamp',axis=1)\n",
    "    #df['timestamp']=pd.to_datetime(df['timestamp'])\n",
    "    #df['hour_of_day']=df['timestamp'].map(lambda x : int(x.hour))\n",
    "    \n",
    "\n",
    "    join_one=pd.get_dummies(df[['event_code','installation_id','game_session']],\n",
    "                            columns=['event_code']).groupby(['installation_id','game_session'],\n",
    "                                                            as_index=False,sort=False).agg(sum)\n",
    "\n",
    "    agg={'event_count':sum,'game_time':['sum','mean'],'event_id':'count'}\n",
    "\n",
    "    join_two=df.drop(time_features,axis=1).groupby(['installation_id','game_session']\n",
    "                                                   ,as_index=False,sort=False).agg(agg)\n",
    "    \n",
    "    join_two.columns= [' '.join(col).strip() for col in join_two.columns.values]\n",
    "    \n",
    "\n",
    "    join_three=df[['installation_id','game_session','type','world','title']].groupby(\n",
    "                ['installation_id','game_session'],as_index=False,sort=False).first()\n",
    "    \n",
    "    join_four=df[time_features+['installation_id','game_session']].groupby(['installation_id',\n",
    "                'game_session'],as_index=False,sort=False).agg(mode)[time_features].applymap(lambda x: x.mode[0])\n",
    "    \n",
    "    join_one=join_one.join(join_four)\n",
    "    \n",
    "    join_five=(join_one.join(join_two.drop(['installation_id','game_session'],axis=1))). \\\n",
    "                        join(join_three.drop(['installation_id','game_session'],axis=1))\n",
    "    \n",
    "    return join_five\n",
    "\n"
   ]
  },
  {
   "cell_type": "code",
   "execution_count": null,
   "metadata": {},
   "outputs": [],
   "source": [
    "\n",
    "join_train=prepare_data(train)\n",
    "cols=join_train.columns.to_list()[2:-3]\n",
    "join_train[cols]=join_train[cols].astype('int16')"
   ]
  },
  {
   "cell_type": "code",
   "execution_count": null,
   "metadata": {},
   "outputs": [],
   "source": [
    "cols=join_train.columns[2:-12].to_list()\n",
    "cols.append('event_id count')\n",
    "cols.append('installation_id')"
   ]
  },
  {
   "cell_type": "code",
   "execution_count": null,
   "metadata": {},
   "outputs": [],
   "source": [
    "final_train=pd.merge(train_labels,join_train,on=['installation_id','game_session'],\n",
    "                                         how='left').drop(['game_session'],axis=1)"
   ]
  },
  {
   "cell_type": "code",
   "execution_count": null,
   "metadata": {},
   "outputs": [],
   "source": [
    "final_train['title'] = final_train['title_x']"
   ]
  },
  {
   "cell_type": "code",
   "execution_count": null,
   "metadata": {},
   "outputs": [],
   "source": [
    "df=final_train[['event_count sum','game_time mean','game_time sum','installation_id']]. \\\n",
    "    groupby('installation_id',as_index=False,sort=False).agg('mean')\n",
    "\n",
    "df_two=final_train[cols].groupby('installation_id',as_index=False,\n",
    "                                 sort=False).agg('sum').drop('installation_id',axis=1)\n",
    "\n",
    "df_three=final_train[['accuracy_group','title','type','world','installation_id']]. \\\n",
    "        groupby('installation_id',as_index=False,sort=False). \\\n",
    "        last().drop('installation_id',axis=1)\n",
    "\n",
    "df_four=join_train[time_features+['installation_id']].groupby('installation_id',as_index=False,sort=False). \\\n",
    "        agg(mode)[time_features].applymap(lambda x : x.mode[0])\n",
    "\n",
    "\n",
    "\n",
    "final_train=(df.join(df_two)).join(df_three.join(df_four)).drop('installation_id',axis=1)"
   ]
  },
  {
   "cell_type": "code",
   "execution_count": null,
   "metadata": {},
   "outputs": [],
   "source": [
    "final_train"
   ]
  },
  {
   "cell_type": "code",
   "execution_count": null,
   "metadata": {},
   "outputs": [],
   "source": [
    "final_train.to_csv('../data/processed/processed_train.csv')"
   ]
  },
  {
   "cell_type": "markdown",
   "metadata": {},
   "source": [
    "## Try using improvement as a feature"
   ]
  },
  {
   "cell_type": "code",
   "execution_count": 19,
   "metadata": {},
   "outputs": [],
   "source": [
    "final_train = pd.read_csv('../data/processed/processed_train.csv')"
   ]
  },
  {
   "cell_type": "code",
   "execution_count": 20,
   "metadata": {},
   "outputs": [],
   "source": [
    "df = train\n",
    "join_one=pd.get_dummies(df[['event_code','installation_id','game_session']],\n",
    "                        columns=['event_code']).groupby(['installation_id','game_session'],\n",
    "                                                        as_index=False,sort=False).agg(sum)"
   ]
  },
  {
   "cell_type": "code",
   "execution_count": 21,
   "metadata": {},
   "outputs": [],
   "source": [
    "df = df.sort_values(['installation_id', 'timestamp'])"
   ]
  },
  {
   "cell_type": "code",
   "execution_count": 22,
   "metadata": {},
   "outputs": [],
   "source": [
    "installation_ids = np.unique(df['installation_id'])"
   ]
  },
  {
   "cell_type": "code",
   "execution_count": 23,
   "metadata": {},
   "outputs": [],
   "source": [
    "tid = installation_ids[0]"
   ]
  },
  {
   "cell_type": "code",
   "execution_count": 24,
   "metadata": {},
   "outputs": [],
   "source": [
    "temp_df = df[df['installation_id'] == tid]"
   ]
  },
  {
   "cell_type": "code",
   "execution_count": 25,
   "metadata": {},
   "outputs": [],
   "source": [
    "next_game_time = temp_df['game_time'].shift(-1)"
   ]
  },
  {
   "cell_type": "code",
   "execution_count": 26,
   "metadata": {},
   "outputs": [
    {
     "name": "stderr",
     "output_type": "stream",
     "text": [
      "/projects/eerhan_prj/anaconda/envs/data/lib/python3.7/site-packages/ipykernel_launcher.py:1: SettingWithCopyWarning: \n",
      "A value is trying to be set on a copy of a slice from a DataFrame.\n",
      "Try using .loc[row_indexer,col_indexer] = value instead\n",
      "\n",
      "See the caveats in the documentation: http://pandas.pydata.org/pandas-docs/stable/user_guide/indexing.html#returning-a-view-versus-a-copy\n",
      "  \"\"\"Entry point for launching an IPython kernel.\n"
     ]
    }
   ],
   "source": [
    "temp_df['next_game_time'] = next_game_time"
   ]
  },
  {
   "cell_type": "code",
   "execution_count": 27,
   "metadata": {},
   "outputs": [
    {
     "name": "stderr",
     "output_type": "stream",
     "text": [
      "/projects/eerhan_prj/anaconda/envs/data/lib/python3.7/site-packages/ipykernel_launcher.py:1: SettingWithCopyWarning: \n",
      "A value is trying to be set on a copy of a slice from a DataFrame.\n",
      "Try using .loc[row_indexer,col_indexer] = value instead\n",
      "\n",
      "See the caveats in the documentation: http://pandas.pydata.org/pandas-docs/stable/user_guide/indexing.html#returning-a-view-versus-a-copy\n",
      "  \"\"\"Entry point for launching an IPython kernel.\n"
     ]
    }
   ],
   "source": [
    "temp_df['improvement'] = temp_df['next_game_time'] - temp_df['game_time']"
   ]
  },
  {
   "cell_type": "code",
   "execution_count": 33,
   "metadata": {},
   "outputs": [
    {
     "data": {
      "text/plain": [
       "0           0.0\n",
       "1           0.0\n",
       "2          53.0\n",
       "3        6919.0\n",
       "4        3019.0\n",
       "         ...   \n",
       "1352        0.0\n",
       "1353     1217.0\n",
       "1354   -86619.0\n",
       "1355        0.0\n",
       "1356        NaN\n",
       "Name: improvement, Length: 1357, dtype: float64"
      ]
     },
     "execution_count": 33,
     "metadata": {},
     "output_type": "execute_result"
    }
   ],
   "source": [
    "temp_df['improvement']"
   ]
  },
  {
   "cell_type": "code",
   "execution_count": 30,
   "metadata": {},
   "outputs": [
    {
     "name": "stdout",
     "output_type": "stream",
     "text": [
      "test\n"
     ]
    }
   ],
   "source": [
    "print('test')"
   ]
  },
  {
   "cell_type": "code",
   "execution_count": 53,
   "metadata": {},
   "outputs": [],
   "source": [
    "new_dfs = []"
   ]
  },
  {
   "cell_type": "code",
   "execution_count": null,
   "metadata": {},
   "outputs": [
    {
     "name": "stderr",
     "output_type": "stream",
     "text": [
      "/projects/eerhan_prj/anaconda/envs/data/lib/python3.7/site-packages/ipykernel_launcher.py:4: SettingWithCopyWarning: \n",
      "A value is trying to be set on a copy of a slice from a DataFrame.\n",
      "Try using .loc[row_indexer,col_indexer] = value instead\n",
      "\n",
      "See the caveats in the documentation: http://pandas.pydata.org/pandas-docs/stable/user_guide/indexing.html#returning-a-view-versus-a-copy\n",
      "  after removing the cwd from sys.path.\n",
      "/projects/eerhan_prj/anaconda/envs/data/lib/python3.7/site-packages/ipykernel_launcher.py:5: SettingWithCopyWarning: \n",
      "A value is trying to be set on a copy of a slice from a DataFrame.\n",
      "Try using .loc[row_indexer,col_indexer] = value instead\n",
      "\n",
      "See the caveats in the documentation: http://pandas.pydata.org/pandas-docs/stable/user_guide/indexing.html#returning-a-view-versus-a-copy\n",
      "  \"\"\"\n"
     ]
    }
   ],
   "source": [
    "for installation_id in installation_ids:\n",
    "    temp_df = df[df['installation_id'] == installation_id]\n",
    "    next_game_time = temp_df['game_time'].shift(-1)\n",
    "    temp_df['next_game_time'] = next_game_time\n",
    "    temp_df['improvement'] = temp_df['next_game_time'] - temp_df['game_time']\n",
    "    new_dfs.append(temp_df)"
   ]
  },
  {
   "cell_type": "code",
   "execution_count": null,
   "metadata": {},
   "outputs": [],
   "source": [
    "new_df = pd.concat(new_dfs)"
   ]
  }
 ],
 "metadata": {
  "kernelspec": {
   "display_name": "Python 3",
   "language": "python",
   "name": "python3"
  },
  "language_info": {
   "codemirror_mode": {
    "name": "ipython",
    "version": 3
   },
   "file_extension": ".py",
   "mimetype": "text/x-python",
   "name": "python",
   "nbconvert_exporter": "python",
   "pygments_lexer": "ipython3",
   "version": "3.7.4"
  }
 },
 "nbformat": 4,
 "nbformat_minor": 4
}
